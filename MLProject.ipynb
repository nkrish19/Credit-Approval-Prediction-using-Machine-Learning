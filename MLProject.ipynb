{
  "nbformat": 4,
  "nbformat_minor": 0,
  "metadata": {
    "colab": {
      "name": "MLProject",
      "provenance": [],
      "collapsed_sections": [],
      "include_colab_link": true
    },
    "kernelspec": {
      "display_name": "Python 3",
      "name": "python3"
    }
  },
  "cells": [
    {
      "cell_type": "markdown",
      "metadata": {
        "id": "view-in-github",
        "colab_type": "text"
      },
      "source": [
        "<a href=\"https://colab.research.google.com/github/nkrish19/Credit-Approval-Prediction-using-Machine-Learning/blob/main/MLProject.ipynb\" target=\"_parent\"><img src=\"https://colab.research.google.com/assets/colab-badge.svg\" alt=\"Open In Colab\"/></a>"
      ]
    },
    {
      "cell_type": "markdown",
      "metadata": {
        "id": "QjAYjsf4c_mZ"
      },
      "source": [
        "##Initialization and Data Pre-processing"
      ]
    },
    {
      "cell_type": "code",
      "metadata": {
        "id": "0MXwtJYwdHiu",
        "colab": {
          "base_uri": "https://localhost:8080/"
        },
        "outputId": "88388778-5292-46cf-fd81-7e5f85ad75cb"
      },
      "source": [
        "from google.colab import drive\n",
        "drive.mount('/content/drive')"
      ],
      "execution_count": null,
      "outputs": [
        {
          "output_type": "stream",
          "text": [
            "Drive already mounted at /content/drive; to attempt to forcibly remount, call drive.mount(\"/content/drive\", force_remount=True).\n"
          ],
          "name": "stdout"
        }
      ]
    },
    {
      "cell_type": "code",
      "metadata": {
        "id": "jnkF25V4GtSq"
      },
      "source": [
        "# mandatory to execute this piece of code before run \n",
        "# mention all libraries here\n",
        "import pandas as pd\n",
        "import numpy as np\n",
        "import matplotlib.pyplot as plt\n",
        "import copy\n",
        "from sklearn.preprocessing import StandardScaler\n",
        "from torch import nn, optim\n",
        "import torch\n",
        "from sklearn.metrics import accuracy_score\n",
        "from sklearn.metrics import roc_auc_score\n",
        "from sklearn.metrics import f1_score\n",
        "from sklearn.metrics import recall_score\n",
        "from sklearn.metrics import precision_score\n",
        "from sklearn.metrics import confusion_matrix"
      ],
      "execution_count": null,
      "outputs": []
    },
    {
      "cell_type": "markdown",
      "metadata": {
        "id": "DXli5iqWK75x"
      },
      "source": [
        "1. Data Preparation Old"
      ]
    },
    {
      "cell_type": "code",
      "metadata": {
        "id": "uQq3pQWrKtCU",
        "colab": {
          "base_uri": "https://localhost:8080/",
          "height": 603
        },
        "outputId": "6372aa25-b192-466b-e73c-ea1de554b1f0"
      },
      "source": [
        "'''\n",
        "Since the data we are using has alot of users than the number of transactions, \n",
        "we will only consider users who have made a transaction recently\n",
        "first we will read the datasets into pandas dataframes\n",
        "'''\n",
        "\n",
        "\n",
        "'''\n",
        "IMPORTANT\n",
        "After mounting your drive, make a folder and make a folder named 'mlproject' and\n",
        "then add both the datasets to this file\n",
        "'''\n",
        "\n",
        "\n",
        "client_info = pd.read_csv(\"/content/drive/My Drive/mlproject/application_record.csv\")\n",
        "client_record = pd.read_csv(\"/content/drive/My Drive/mlproject/credit_record.csv\")\n",
        "\n",
        "\n",
        "''' dropping occupation type as it has a lot of missing values'''\n",
        "client_info = client_info.drop(columns=['OCCUPATION_TYPE'])\n",
        "# print(client_info.columns)\n",
        "\n",
        "\n",
        "'''for mapping gender values\n",
        "we have 1 for Male and 0 for Female'''\n",
        "client_info['CODE_GENDER'].replace({\"M\": 1, \"F\": 0}, inplace=True)\n",
        "    \n",
        "\n",
        "'''for mapping whether the client has a car\n",
        "it will be 1 for yes and 0 for no'''\n",
        "client_info[\"FLAG_OWN_CAR\"].replace({\"Y\": 1, \"N\": 0}, inplace=True)\n",
        "\n",
        "\n",
        "'''for mappping whether the client owns any real esate assents\n",
        "again it will be 1 for 1 for yes and 0 for nonlocal'''\n",
        "client_info[\"FLAG_OWN_REALTY\"].replace({\"Y\": 1, \"N\": 0}, inplace=True)    \n",
        "\n",
        "\n",
        "'''for mapping educational qualifications\n",
        "we have not made dummy varaibles for this because we feel\n",
        "higher educatonal qualifications should be given higher weight'''\n",
        "client_info[\"NAME_EDUCATION_TYPE\"].replace({\"Higher education\": 3, \"Lower secondary\": 0, \"Secondary / secondary special\": 1, \"Incomplete higher\": 2, \"Academic degree\":4}, inplace=True)\n",
        "\n",
        "\n",
        "'''for mapping housing type\n",
        "the value 0 would indicate a rented/municipal/office apartment \n",
        "or that the client lives with his parents whereas 1 would indicate a House/co-op apartment\n",
        "the reason being that 1 would indicate that the person lives on a property that they own \n",
        "whereas 0 would indicate that it is not a permanent place'''\n",
        "client_info[\"NAME_HOUSING_TYPE\"].replace({\"House / apartment\":5, 'Co-op apartment':4, 'Municipal apartment':3, 'With parents':2, 'Office apartment':1, 'Rented apartment':0}, inplace=True)\n",
        "\n",
        "\n",
        "'''for mapping income type\n",
        "the value 0 would indicate a student/person living on pension \n",
        "whereas the value 1 would indicate a commercial associate or a person who \n",
        "is working or is a state servent. We have done so because a pensioner and \n",
        "a student are people who are not actively working and hence should be considered\n",
        "into a different category from the people who are actively working'''\n",
        "client_info['NAME_INCOME_TYPE'].replace({'Working':3, 'Commercial associate':4, 'Pensioner':1, 'State servant':2, 'Student':0}, inplace=True)\n",
        "\n",
        "\n",
        "'''for mapping family status\n",
        "we will classify marriage and civil marriage as 1 since they both indicate\n",
        "that the person currently has a spouse and we will classify separated, single\n",
        "and widow as 0 since in all of them the client has no spouse'''\n",
        "client_info['NAME_FAMILY_STATUS'].replace({'Single / not married':2, 'Separated':1, 'Widow':0, 'Married':4, 'Civil marriage':3}, inplace=True)\n",
        "\n",
        "\n",
        "''' for handling our response variable\n",
        "so the variable STATUS will be our response variable\n",
        "for loans that were paid as safe credit approvals whereas all\n",
        "dues (all integer values) as unsafe credit approvals. The values assigned would be\n",
        "1 and 0 respectively. We might have to change this depending on accuracy'''\n",
        "client_record['STATUS'].replace({'C':1, 'X':1,'1':0,'0':0,'2':0,'3':0,'4':0,'5':0},inplace=True)\n",
        "\n",
        "\n",
        "\n",
        "\n",
        "''' Merging the 2 datasets'''\n",
        "data = client_record.merge(client_info, how = 'left', on = 'ID')\n",
        "data = data.dropna()\n",
        "data = data.reset_index()\n",
        "data = data.drop(columns=['index']) \n",
        "\n",
        "\n",
        "''' Optional to use Standard Scalar but would likely give a better \n",
        "performance. It is a type of Standardazation'''\n",
        "\n",
        "\n",
        "std_slc = StandardScaler()\n",
        "std_slc.fit(data)\n",
        "std_slc.transform(data)\n",
        "\n",
        "\n",
        "Y = data['STATUS']\n",
        "X = copy.deepcopy(data)\n",
        "X = X.drop(columns = ['STATUS','ID']) \n",
        "# X.head()\n",
        "# Y.head()\n",
        "X.corr()"
      ],
      "execution_count": null,
      "outputs": [
        {
          "output_type": "execute_result",
          "data": {
            "text/html": [
              "<div>\n",
              "<style scoped>\n",
              "    .dataframe tbody tr th:only-of-type {\n",
              "        vertical-align: middle;\n",
              "    }\n",
              "\n",
              "    .dataframe tbody tr th {\n",
              "        vertical-align: top;\n",
              "    }\n",
              "\n",
              "    .dataframe thead th {\n",
              "        text-align: right;\n",
              "    }\n",
              "</style>\n",
              "<table border=\"1\" class=\"dataframe\">\n",
              "  <thead>\n",
              "    <tr style=\"text-align: right;\">\n",
              "      <th></th>\n",
              "      <th>MONTHS_BALANCE</th>\n",
              "      <th>CODE_GENDER</th>\n",
              "      <th>FLAG_OWN_CAR</th>\n",
              "      <th>FLAG_OWN_REALTY</th>\n",
              "      <th>CNT_CHILDREN</th>\n",
              "      <th>AMT_INCOME_TOTAL</th>\n",
              "      <th>NAME_INCOME_TYPE</th>\n",
              "      <th>NAME_EDUCATION_TYPE</th>\n",
              "      <th>NAME_FAMILY_STATUS</th>\n",
              "      <th>NAME_HOUSING_TYPE</th>\n",
              "      <th>DAYS_BIRTH</th>\n",
              "      <th>DAYS_EMPLOYED</th>\n",
              "      <th>FLAG_MOBIL</th>\n",
              "      <th>FLAG_WORK_PHONE</th>\n",
              "      <th>FLAG_PHONE</th>\n",
              "      <th>FLAG_EMAIL</th>\n",
              "      <th>CNT_FAM_MEMBERS</th>\n",
              "    </tr>\n",
              "  </thead>\n",
              "  <tbody>\n",
              "    <tr>\n",
              "      <th>MONTHS_BALANCE</th>\n",
              "      <td>1.000000</td>\n",
              "      <td>0.013635</td>\n",
              "      <td>-0.003142</td>\n",
              "      <td>-0.008977</td>\n",
              "      <td>0.000913</td>\n",
              "      <td>0.001831</td>\n",
              "      <td>0.009282</td>\n",
              "      <td>0.001729</td>\n",
              "      <td>-0.008661</td>\n",
              "      <td>-0.016652</td>\n",
              "      <td>0.035756</td>\n",
              "      <td>-0.004222</td>\n",
              "      <td>NaN</td>\n",
              "      <td>0.001529</td>\n",
              "      <td>-0.005120</td>\n",
              "      <td>0.005288</td>\n",
              "      <td>-0.006276</td>\n",
              "    </tr>\n",
              "    <tr>\n",
              "      <th>CODE_GENDER</th>\n",
              "      <td>0.013635</td>\n",
              "      <td>1.000000</td>\n",
              "      <td>0.368554</td>\n",
              "      <td>-0.055791</td>\n",
              "      <td>0.103816</td>\n",
              "      <td>0.203889</td>\n",
              "      <td>0.154847</td>\n",
              "      <td>-0.009038</td>\n",
              "      <td>0.151090</td>\n",
              "      <td>-0.069209</td>\n",
              "      <td>0.203718</td>\n",
              "      <td>-0.172962</td>\n",
              "      <td>NaN</td>\n",
              "      <td>0.059027</td>\n",
              "      <td>-0.029471</td>\n",
              "      <td>-0.011710</td>\n",
              "      <td>0.138505</td>\n",
              "    </tr>\n",
              "    <tr>\n",
              "      <th>FLAG_OWN_CAR</th>\n",
              "      <td>-0.003142</td>\n",
              "      <td>0.368554</td>\n",
              "      <td>1.000000</td>\n",
              "      <td>-0.017764</td>\n",
              "      <td>0.109014</td>\n",
              "      <td>0.219579</td>\n",
              "      <td>0.146359</td>\n",
              "      <td>0.103914</td>\n",
              "      <td>0.160563</td>\n",
              "      <td>-0.014436</td>\n",
              "      <td>0.162202</td>\n",
              "      <td>-0.157830</td>\n",
              "      <td>NaN</td>\n",
              "      <td>0.019654</td>\n",
              "      <td>-0.014249</td>\n",
              "      <td>0.029040</td>\n",
              "      <td>0.156436</td>\n",
              "    </tr>\n",
              "    <tr>\n",
              "      <th>FLAG_OWN_REALTY</th>\n",
              "      <td>-0.008977</td>\n",
              "      <td>-0.055791</td>\n",
              "      <td>-0.017764</td>\n",
              "      <td>1.000000</td>\n",
              "      <td>-0.010621</td>\n",
              "      <td>0.039443</td>\n",
              "      <td>-0.068936</td>\n",
              "      <td>-0.011873</td>\n",
              "      <td>-0.009426</td>\n",
              "      <td>0.178151</td>\n",
              "      <td>-0.130354</td>\n",
              "      <td>0.092166</td>\n",
              "      <td>NaN</td>\n",
              "      <td>-0.210804</td>\n",
              "      <td>-0.061221</td>\n",
              "      <td>0.054065</td>\n",
              "      <td>-0.014404</td>\n",
              "    </tr>\n",
              "    <tr>\n",
              "      <th>CNT_CHILDREN</th>\n",
              "      <td>0.000913</td>\n",
              "      <td>0.103816</td>\n",
              "      <td>0.109014</td>\n",
              "      <td>-0.010621</td>\n",
              "      <td>1.000000</td>\n",
              "      <td>0.039304</td>\n",
              "      <td>0.170352</td>\n",
              "      <td>0.052216</td>\n",
              "      <td>0.151225</td>\n",
              "      <td>-0.028296</td>\n",
              "      <td>0.356177</td>\n",
              "      <td>-0.228945</td>\n",
              "      <td>NaN</td>\n",
              "      <td>0.042226</td>\n",
              "      <td>-0.018882</td>\n",
              "      <td>0.015726</td>\n",
              "      <td>0.892079</td>\n",
              "    </tr>\n",
              "    <tr>\n",
              "      <th>AMT_INCOME_TOTAL</th>\n",
              "      <td>0.001831</td>\n",
              "      <td>0.203889</td>\n",
              "      <td>0.219579</td>\n",
              "      <td>0.039443</td>\n",
              "      <td>0.039304</td>\n",
              "      <td>1.000000</td>\n",
              "      <td>0.200132</td>\n",
              "      <td>0.235910</td>\n",
              "      <td>0.013672</td>\n",
              "      <td>-0.010123</td>\n",
              "      <td>0.081231</td>\n",
              "      <td>-0.180674</td>\n",
              "      <td>NaN</td>\n",
              "      <td>-0.021229</td>\n",
              "      <td>0.018687</td>\n",
              "      <td>0.085776</td>\n",
              "      <td>0.031379</td>\n",
              "    </tr>\n",
              "    <tr>\n",
              "      <th>NAME_INCOME_TYPE</th>\n",
              "      <td>0.009282</td>\n",
              "      <td>0.154847</td>\n",
              "      <td>0.146359</td>\n",
              "      <td>-0.068936</td>\n",
              "      <td>0.170352</td>\n",
              "      <td>0.200132</td>\n",
              "      <td>1.000000</td>\n",
              "      <td>0.114034</td>\n",
              "      <td>0.097639</td>\n",
              "      <td>-0.073005</td>\n",
              "      <td>0.525633</td>\n",
              "      <td>-0.826532</td>\n",
              "      <td>NaN</td>\n",
              "      <td>0.186931</td>\n",
              "      <td>0.018401</td>\n",
              "      <td>0.087395</td>\n",
              "      <td>0.167806</td>\n",
              "    </tr>\n",
              "    <tr>\n",
              "      <th>NAME_EDUCATION_TYPE</th>\n",
              "      <td>0.001729</td>\n",
              "      <td>-0.009038</td>\n",
              "      <td>0.103914</td>\n",
              "      <td>-0.011873</td>\n",
              "      <td>0.052216</td>\n",
              "      <td>0.235910</td>\n",
              "      <td>0.114034</td>\n",
              "      <td>1.000000</td>\n",
              "      <td>0.019769</td>\n",
              "      <td>-0.004988</td>\n",
              "      <td>0.164976</td>\n",
              "      <td>-0.123122</td>\n",
              "      <td>NaN</td>\n",
              "      <td>0.016077</td>\n",
              "      <td>0.042472</td>\n",
              "      <td>0.095521</td>\n",
              "      <td>0.040308</td>\n",
              "    </tr>\n",
              "    <tr>\n",
              "      <th>NAME_FAMILY_STATUS</th>\n",
              "      <td>-0.008661</td>\n",
              "      <td>0.151090</td>\n",
              "      <td>0.160563</td>\n",
              "      <td>-0.009426</td>\n",
              "      <td>0.151225</td>\n",
              "      <td>0.013672</td>\n",
              "      <td>0.097639</td>\n",
              "      <td>0.019769</td>\n",
              "      <td>1.000000</td>\n",
              "      <td>0.021051</td>\n",
              "      <td>0.130603</td>\n",
              "      <td>-0.124867</td>\n",
              "      <td>NaN</td>\n",
              "      <td>0.058268</td>\n",
              "      <td>0.015143</td>\n",
              "      <td>0.003450</td>\n",
              "      <td>0.542242</td>\n",
              "    </tr>\n",
              "    <tr>\n",
              "      <th>NAME_HOUSING_TYPE</th>\n",
              "      <td>-0.016652</td>\n",
              "      <td>-0.069209</td>\n",
              "      <td>-0.014436</td>\n",
              "      <td>0.178151</td>\n",
              "      <td>-0.028296</td>\n",
              "      <td>-0.010123</td>\n",
              "      <td>-0.073005</td>\n",
              "      <td>-0.004988</td>\n",
              "      <td>0.021051</td>\n",
              "      <td>1.000000</td>\n",
              "      <td>-0.169492</td>\n",
              "      <td>0.092906</td>\n",
              "      <td>NaN</td>\n",
              "      <td>-0.024563</td>\n",
              "      <td>0.021113</td>\n",
              "      <td>-0.007705</td>\n",
              "      <td>-0.005305</td>\n",
              "    </tr>\n",
              "    <tr>\n",
              "      <th>DAYS_BIRTH</th>\n",
              "      <td>0.035756</td>\n",
              "      <td>0.203718</td>\n",
              "      <td>0.162202</td>\n",
              "      <td>-0.130354</td>\n",
              "      <td>0.356177</td>\n",
              "      <td>0.081231</td>\n",
              "      <td>0.525633</td>\n",
              "      <td>0.164976</td>\n",
              "      <td>0.130603</td>\n",
              "      <td>-0.169492</td>\n",
              "      <td>1.000000</td>\n",
              "      <td>-0.608856</td>\n",
              "      <td>NaN</td>\n",
              "      <td>0.180658</td>\n",
              "      <td>-0.026717</td>\n",
              "      <td>0.100945</td>\n",
              "      <td>0.327750</td>\n",
              "    </tr>\n",
              "    <tr>\n",
              "      <th>DAYS_EMPLOYED</th>\n",
              "      <td>-0.004222</td>\n",
              "      <td>-0.172962</td>\n",
              "      <td>-0.157830</td>\n",
              "      <td>0.092166</td>\n",
              "      <td>-0.228945</td>\n",
              "      <td>-0.180674</td>\n",
              "      <td>-0.826532</td>\n",
              "      <td>-0.123122</td>\n",
              "      <td>-0.124867</td>\n",
              "      <td>0.092906</td>\n",
              "      <td>-0.608856</td>\n",
              "      <td>1.000000</td>\n",
              "      <td>NaN</td>\n",
              "      <td>-0.243677</td>\n",
              "      <td>-0.013817</td>\n",
              "      <td>-0.082474</td>\n",
              "      <td>-0.227645</td>\n",
              "    </tr>\n",
              "    <tr>\n",
              "      <th>FLAG_MOBIL</th>\n",
              "      <td>NaN</td>\n",
              "      <td>NaN</td>\n",
              "      <td>NaN</td>\n",
              "      <td>NaN</td>\n",
              "      <td>NaN</td>\n",
              "      <td>NaN</td>\n",
              "      <td>NaN</td>\n",
              "      <td>NaN</td>\n",
              "      <td>NaN</td>\n",
              "      <td>NaN</td>\n",
              "      <td>NaN</td>\n",
              "      <td>NaN</td>\n",
              "      <td>NaN</td>\n",
              "      <td>NaN</td>\n",
              "      <td>NaN</td>\n",
              "      <td>NaN</td>\n",
              "      <td>NaN</td>\n",
              "    </tr>\n",
              "    <tr>\n",
              "      <th>FLAG_WORK_PHONE</th>\n",
              "      <td>0.001529</td>\n",
              "      <td>0.059027</td>\n",
              "      <td>0.019654</td>\n",
              "      <td>-0.210804</td>\n",
              "      <td>0.042226</td>\n",
              "      <td>-0.021229</td>\n",
              "      <td>0.186931</td>\n",
              "      <td>0.016077</td>\n",
              "      <td>0.058268</td>\n",
              "      <td>-0.024563</td>\n",
              "      <td>0.180658</td>\n",
              "      <td>-0.243677</td>\n",
              "      <td>NaN</td>\n",
              "      <td>1.000000</td>\n",
              "      <td>0.312552</td>\n",
              "      <td>-0.037991</td>\n",
              "      <td>0.060183</td>\n",
              "    </tr>\n",
              "    <tr>\n",
              "      <th>FLAG_PHONE</th>\n",
              "      <td>-0.005120</td>\n",
              "      <td>-0.029471</td>\n",
              "      <td>-0.014249</td>\n",
              "      <td>-0.061221</td>\n",
              "      <td>-0.018882</td>\n",
              "      <td>0.018687</td>\n",
              "      <td>0.018401</td>\n",
              "      <td>0.042472</td>\n",
              "      <td>0.015143</td>\n",
              "      <td>0.021113</td>\n",
              "      <td>-0.026717</td>\n",
              "      <td>-0.013817</td>\n",
              "      <td>NaN</td>\n",
              "      <td>0.312552</td>\n",
              "      <td>1.000000</td>\n",
              "      <td>0.011901</td>\n",
              "      <td>-0.007824</td>\n",
              "    </tr>\n",
              "    <tr>\n",
              "      <th>FLAG_EMAIL</th>\n",
              "      <td>0.005288</td>\n",
              "      <td>-0.011710</td>\n",
              "      <td>0.029040</td>\n",
              "      <td>0.054065</td>\n",
              "      <td>0.015726</td>\n",
              "      <td>0.085776</td>\n",
              "      <td>0.087395</td>\n",
              "      <td>0.095521</td>\n",
              "      <td>0.003450</td>\n",
              "      <td>-0.007705</td>\n",
              "      <td>0.100945</td>\n",
              "      <td>-0.082474</td>\n",
              "      <td>NaN</td>\n",
              "      <td>-0.037991</td>\n",
              "      <td>0.011901</td>\n",
              "      <td>1.000000</td>\n",
              "      <td>0.012540</td>\n",
              "    </tr>\n",
              "    <tr>\n",
              "      <th>CNT_FAM_MEMBERS</th>\n",
              "      <td>-0.006276</td>\n",
              "      <td>0.138505</td>\n",
              "      <td>0.156436</td>\n",
              "      <td>-0.014404</td>\n",
              "      <td>0.892079</td>\n",
              "      <td>0.031379</td>\n",
              "      <td>0.167806</td>\n",
              "      <td>0.040308</td>\n",
              "      <td>0.542242</td>\n",
              "      <td>-0.005305</td>\n",
              "      <td>0.327750</td>\n",
              "      <td>-0.227645</td>\n",
              "      <td>NaN</td>\n",
              "      <td>0.060183</td>\n",
              "      <td>-0.007824</td>\n",
              "      <td>0.012540</td>\n",
              "      <td>1.000000</td>\n",
              "    </tr>\n",
              "  </tbody>\n",
              "</table>\n",
              "</div>"
            ],
            "text/plain": [
              "                     MONTHS_BALANCE  CODE_GENDER  ...  FLAG_EMAIL  CNT_FAM_MEMBERS\n",
              "MONTHS_BALANCE             1.000000     0.013635  ...    0.005288        -0.006276\n",
              "CODE_GENDER                0.013635     1.000000  ...   -0.011710         0.138505\n",
              "FLAG_OWN_CAR              -0.003142     0.368554  ...    0.029040         0.156436\n",
              "FLAG_OWN_REALTY           -0.008977    -0.055791  ...    0.054065        -0.014404\n",
              "CNT_CHILDREN               0.000913     0.103816  ...    0.015726         0.892079\n",
              "AMT_INCOME_TOTAL           0.001831     0.203889  ...    0.085776         0.031379\n",
              "NAME_INCOME_TYPE           0.009282     0.154847  ...    0.087395         0.167806\n",
              "NAME_EDUCATION_TYPE        0.001729    -0.009038  ...    0.095521         0.040308\n",
              "NAME_FAMILY_STATUS        -0.008661     0.151090  ...    0.003450         0.542242\n",
              "NAME_HOUSING_TYPE         -0.016652    -0.069209  ...   -0.007705        -0.005305\n",
              "DAYS_BIRTH                 0.035756     0.203718  ...    0.100945         0.327750\n",
              "DAYS_EMPLOYED             -0.004222    -0.172962  ...   -0.082474        -0.227645\n",
              "FLAG_MOBIL                      NaN          NaN  ...         NaN              NaN\n",
              "FLAG_WORK_PHONE            0.001529     0.059027  ...   -0.037991         0.060183\n",
              "FLAG_PHONE                -0.005120    -0.029471  ...    0.011901        -0.007824\n",
              "FLAG_EMAIL                 0.005288    -0.011710  ...    1.000000         0.012540\n",
              "CNT_FAM_MEMBERS           -0.006276     0.138505  ...    0.012540         1.000000\n",
              "\n",
              "[17 rows x 17 columns]"
            ]
          },
          "metadata": {
            "tags": []
          },
          "execution_count": 3
        }
      ]
    },
    {
      "cell_type": "markdown",
      "metadata": {
        "id": "jM8LXC9xTpf9"
      },
      "source": [
        "1. Data Preparation Updated"
      ]
    },
    {
      "cell_type": "code",
      "metadata": {
        "id": "gnDYe4rgTyRl",
        "colab": {
          "base_uri": "https://localhost:8080/",
          "height": 315
        },
        "outputId": "18db9b55-5859-4d56-e69e-4a5010431699"
      },
      "source": [
        "\"\"\"\n",
        "Make a folder named 'mlproject' and paste both the datasets\n",
        "\"\"\"\n",
        "\n",
        "client_info = pd.read_csv(\"/content/drive/My Drive/mlproject/application_record.csv\")\n",
        "client_record = pd.read_csv(\"/content/drive/My Drive/mlproject/credit_record.csv\")\n",
        "\n",
        "client_info.corr()\n",
        "\"\"\"Dropping Columns\"\"\"\n",
        "client_info = client_info.drop(['OCCUPATION_TYPE', \"CNT_CHILDREN\", \"DAYS_BIRTH\", \"FLAG_MOBIL\"], axis=1)\n",
        "\n",
        "\n",
        "\"\"\"Creating Dummies\"\"\"\n",
        "client_info = pd.get_dummies(client_info, columns = [\"CODE_GENDER\", \"FLAG_OWN_CAR\", \"FLAG_OWN_REALTY\", \"NAME_EDUCATION_TYPE\", \"NAME_HOUSING_TYPE\", \"NAME_INCOME_TYPE\", \"NAME_FAMILY_STATUS\", \"NAME_HOUSING_TYPE\", \"FLAG_WORK_PHONE\"], drop_first=True)\n",
        "\n",
        "\n",
        "\"\"\"Handling DAYS_EMPLOYED\"\"\"\n",
        "# client_info[\"DAYS_EMPLOYED\"] = np.where(client_info[\"DAYS_EMPLOYED\"] > 0, 1, client_info[\"DAYS_EMPLOYED\"])\n",
        "\n",
        "\n",
        "\"\"\"Defining Response Variable\"\"\"\n",
        "client_record = client_record.drop([\"MONTHS_BALANCE\"], axis = 1)\n",
        "client_record['STATUS'] = np.where((client_record['STATUS'] == 'X') | (client_record['STATUS'] == 'C'), -1, client_record['STATUS'])\n",
        "client_record['STATUS'] = pd.to_numeric(client_record['STATUS'])\n",
        "client_record = client_record.groupby([\"ID\"]).mean()\n",
        "client_record[\"STATUS\"] = np.where(client_record['STATUS']>0, 1, 0)\n",
        "\n",
        "\n",
        "\"\"\"Merging the 2 datasets\"\"\"\n",
        "data = client_record.merge(client_info, how='left', on='ID')\n",
        "data = data.dropna()\n",
        "data = data.reset_index()\n",
        "data = data.drop(columns=['index'])\n",
        "data = data.set_index('ID')\n",
        "data = data.astype('float64')\n",
        "\n",
        "\n",
        "\"\"\"Sampling the data\"\"\"\n",
        "data = data.sample(frac = 1)\n",
        "\n",
        "\n",
        "\"\"\"Creating numpy arrays and Scaling the data\"\"\"\n",
        "\n",
        "y = data.pop(\"STATUS\")\n",
        "Y = y.to_numpy( )\n",
        "\n",
        "std_slc = StandardScaler()\n",
        "std_slc.fit(data)\n",
        "std_slc.transform(data)\n",
        "\n",
        "X = data.to_numpy()\n",
        "temp = {'0':0, '1':0}\n",
        "# print(Y)\n",
        "for i in Y:\n",
        "    temp[str(int(i))]+=1\n",
        "plt.bar(temp.keys(),temp.values())\n",
        "pd.DataFrame(Y).value_counts()"
      ],
      "execution_count": null,
      "outputs": [
        {
          "output_type": "execute_result",
          "data": {
            "text/plain": [
              "0.0    35164\n",
              "1.0     1293\n",
              "dtype: int64"
            ]
          },
          "metadata": {
            "tags": []
          },
          "execution_count": 5
        },
        {
          "output_type": "display_data",
          "data": {
            "image/png": "[encoded data removed]",
            "text/plain": [
              "<Figure size 432x288 with 1 Axes>"
            ]
          },
          "metadata": {
            "tags": [],
            "needs_background": "light"
          }
        }
      ]
    },
    {
      "cell_type": "markdown",
      "metadata": {
        "id": "-WQolMWKwv5B"
      },
      "source": [
        "2. Different Techniques (weights/random Yunder/random over)\n"
      ]
    },
    {
      "cell_type": "markdown",
      "metadata": {
        "id": "Qe8FNO39w7sB"
      },
      "source": [
        "a. Weights "
      ]
    },
    {
      "cell_type": "code",
      "metadata": {
        "id": "khzsmKHhw48R",
        "colab": {
          "base_uri": "https://localhost:8080/"
        },
        "outputId": "a406be58-f070-4a2a-fe11-cc8ee9f15bd1"
      },
      "source": [
        "weights = {0:1, 1:30}\n",
        "X_res = X\n",
        "Y_res = Y\n",
        "'''\n",
        "barring naive bayes, every other method should have the option to add weights\n",
        "as an input parameter class_weights=weights\n",
        "'''\n",
        "pd.DataFrame(Y).value_counts()"
      ],
      "execution_count": null,
      "outputs": [
        {
          "output_type": "execute_result",
          "data": {
            "text/plain": [
              "0.0    35164\n",
              "1.0     1293\n",
              "dtype: int64"
            ]
          },
          "metadata": {
            "tags": []
          },
          "execution_count": 29
        }
      ]
    },
    {
      "cell_type": "markdown",
      "metadata": {
        "id": "nC4yuqIpxHLq"
      },
      "source": [
        "b. Random Under"
      ]
    },
    {
      "cell_type": "code",
      "metadata": {
        "id": "VM6gP9w5xK4w"
      },
      "source": [
        "from imblearn.under_sampling import RandomUnderSampler\n",
        "res = RandomUnderSampler()\n",
        "X_res, Y_res = res.fit_resample(X, Y)"
      ],
      "execution_count": null,
      "outputs": []
    },
    {
      "cell_type": "markdown",
      "metadata": {
        "id": "T9t6um7DyvXX"
      },
      "source": [
        "c. Random Over"
      ]
    },
    {
      "cell_type": "code",
      "metadata": {
        "id": "baWcj-UryxNf"
      },
      "source": [
        "from imblearn.over_sampling import RandomOverSampler\n",
        "res = RandomOverSampler()\n",
        "X_res, Y_res = res.fit_resample(X, Y)"
      ],
      "execution_count": null,
      "outputs": []
    },
    {
      "cell_type": "markdown",
      "metadata": {
        "id": "Df_rSqlf4k8_"
      },
      "source": [
        "## Separation of Training and Testing set"
      ]
    },
    {
      "cell_type": "code",
      "metadata": {
        "id": "fl0sjgvB4pDt"
      },
      "source": [
        "# define X_train, Y_train, X_test, Y_test\n",
        "from sklearn.model_selection import train_test_split\n",
        "X_train, X_test, Y_train, Y_test = train_test_split(X_res, Y_res, test_size=0.2, random_state=42)\n",
        "Y_train = pd.DataFrame(Y_train)\n",
        "Y_test = pd.DataFrame(Y_test)"
      ],
      "execution_count": null,
      "outputs": []
    },
    {
      "cell_type": "markdown",
      "metadata": {
        "id": "sB-Nb2376oNg"
      },
      "source": [
        "##Base Models for machine learning "
      ]
    },
    {
      "cell_type": "markdown",
      "metadata": {
        "id": "Ux4psrx6zIlM"
      },
      "source": [
        "1. Decision Trees"
      ]
    },
    {
      "cell_type": "code",
      "metadata": {
        "id": "1lTyEz7AzK5V"
      },
      "source": [
        "from sklearn.tree import DecisionTreeClassifier\n",
        "model = DecisionTreeClassifier(random_state=42) "
      ],
      "execution_count": null,
      "outputs": []
    },
    {
      "cell_type": "markdown",
      "metadata": {
        "id": "QnPMXAZp5I_I"
      },
      "source": [
        "2. Naive Bayes"
      ]
    },
    {
      "cell_type": "code",
      "metadata": {
        "id": "Mtq0hRsV5NLu"
      },
      "source": [
        "from sklearn.naive_bayes import GaussianNB\n",
        "model = GaussianNB()"
      ],
      "execution_count": null,
      "outputs": []
    },
    {
      "cell_type": "markdown",
      "metadata": {
        "id": "VGCe4m3M5qlw"
      },
      "source": [
        "3. KNN Classifier"
      ]
    },
    {
      "cell_type": "code",
      "metadata": {
        "id": "CjKxlNQ35vXq"
      },
      "source": [
        "from sklearn.neighbors import KNeighborsClassifier\n",
        "model = KNeighborsClassifier(n_neighbors=5)\n",
        "# use hit and train for hyper params"
      ],
      "execution_count": null,
      "outputs": []
    },
    {
      "cell_type": "markdown",
      "metadata": {
        "id": "ZChnnlpTJsIc"
      },
      "source": [
        "4. Logistic Regression"
      ]
    },
    {
      "cell_type": "code",
      "metadata": {
        "id": "7WmDyMH3JwJB"
      },
      "source": [
        "from sklearn.linear_model import LogisticRegression\n",
        "model = LogisticRegression(class_weight=weights)"
      ],
      "execution_count": null,
      "outputs": []
    },
    {
      "cell_type": "markdown",
      "metadata": {
        "id": "GyGT-G3ABHIV"
      },
      "source": [
        "5. SVC"
      ]
    },
    {
      "cell_type": "code",
      "metadata": {
        "id": "NNp5jctWBIvL"
      },
      "source": [
        "from sklearn.model_selection import GridSearchCV \r\n",
        "import pandas as pd \r\n",
        "import numpy as np \r\n",
        "from sklearn.metrics import classification_report, confusion_matrix \r\n",
        "from sklearn.svm import SVC \r\n",
        "  \r\n",
        "param_grid = {'C': [0.1, 1, 10, 100, 1000],  \r\n",
        "              'gamma': [1, 0.1, 0.01, 0.001, 0.0001], \r\n",
        "              'kernel': ['rbf']}  \r\n",
        "  \r\n",
        "model = GridSearchCV(SVC(), param_grid, refit = True, verbose = 3) \r\n",
        "  \r\n",
        "# fitting the model for grid search \r\n",
        "model.fit(X_train, Y_train) "
      ],
      "execution_count": null,
      "outputs": []
    },
    {
      "cell_type": "code",
      "metadata": {
        "id": "IRjU1rKIBaVk"
      },
      "source": [
        ""
      ],
      "execution_count": null,
      "outputs": []
    },
    {
      "cell_type": "markdown",
      "metadata": {
        "id": "yhj_TrjG6kX9"
      },
      "source": [
        "##Ensemble learning "
      ]
    },
    {
      "cell_type": "markdown",
      "metadata": {
        "id": "Acb1TV6G60fA"
      },
      "source": [
        "1. Random forest Classifier"
      ]
    },
    {
      "cell_type": "code",
      "metadata": {
        "id": "NoK8eRmE7SHh"
      },
      "source": [
        "from sklearn.ensemble import RandomForestClassifier\n",
        "model = RandomForestClassifier(random_state=42)"
      ],
      "execution_count": null,
      "outputs": []
    },
    {
      "cell_type": "markdown",
      "metadata": {
        "id": "HDWroT6W7sad"
      },
      "source": [
        "2. XGBoosted Trees"
      ]
    },
    {
      "cell_type": "code",
      "metadata": {
        "id": "pZL6xiYr7rAs"
      },
      "source": [
        "from xgboost import XGBClassifier \n",
        "model = XGBClassifier(max_depth=13, n_estimators=500, min_child_weight=10) # the hyper parameters of XgBoost are subject to change\n",
        "# use hit and trail or GridSearchCV for hyper params"
      ],
      "execution_count": null,
      "outputs": []
    },
    {
      "cell_type": "markdown",
      "metadata": {
        "id": "7w1EU6KV85oy"
      },
      "source": [
        "3. ADABoost"
      ]
    },
    {
      "cell_type": "code",
      "metadata": {
        "id": "OjkhL16O88h1"
      },
      "source": [
        "# note this is not a defined method and will use one of the basic classifiers as input\n",
        "from sklearn.ensemble import AdaBoostClassifier \n",
        "clf = AdaBoostClassifier(base_estimator=model,n_estimators=50)"
      ],
      "execution_count": null,
      "outputs": []
    },
    {
      "cell_type": "markdown",
      "metadata": {
        "id": "BuU6hAai9cK4"
      },
      "source": [
        "4. Bagging "
      ]
    },
    {
      "cell_type": "code",
      "metadata": {
        "id": "vOXjU4eC9mrd"
      },
      "source": [
        "from sklearn.ensemble import BaggingClassifier\n",
        "clf = BaggingClassifier(base_estimator = model, n_estimators = 50, random_state = 42) "
      ],
      "execution_count": null,
      "outputs": []
    },
    {
      "cell_type": "markdown",
      "metadata": {
        "id": "5hu2b0ADm60B"
      },
      "source": [
        "## Neural Network"
      ]
    },
    {
      "cell_type": "code",
      "metadata": {
        "id": "NehL2UOynEpT"
      },
      "source": [
        "input_size = X_train.shape[1]\n",
        "\n",
        "X_train = torch.from_numpy(X_train).float()\n",
        "X_test = torch.from_numpy(X_test).float()\n",
        "Y_train = torch.from_numpy(Y_train.to_numpy().reshape(Y_train.shape[0], 1)).type(torch.LongTensor)\n",
        "Y_test = torch.from_numpy(Y_test.to_numpy().reshape(Y_test.shape[0], 1)).type(torch.LongTensor)\n",
        "\n",
        "model = nn.Sequential(nn.Linear(input_size, 15),\n",
        "                      nn.ReLU(),\n",
        "                      nn.Linear(15, 2),\n",
        "                      nn.Softmax(dim=1))\n",
        "\n",
        "optimizer = optim.SGD(model.parameters(), lr=0.001)\n",
        "criterion = nn.CrossEntropyLoss()\n",
        "\n",
        "epochs = 10000\n",
        "\n",
        "model.train()\n",
        "for e in range(epochs):\n",
        "\n",
        "    optimizer.zero_grad()\n",
        "    output = model(X_train)\n",
        "    loss = criterion(output, Y_train.squeeze_())\n",
        "    loss.backward()\n",
        "    optimizer.step()\n",
        "\n",
        "Y_pred = model(X_test)\n",
        "\n",
        "print(\"Accuracy\")\n",
        "print(accuracy_score(Y_test.detach().numpy(),Y_pred.detach().numpy()[:, 0]))\n",
        "\n",
        "\n",
        "print(\"ROC_AUC\")\n",
        "print(roc_auc_score(Y_test.detach().numpy(),Y_pred.detach().numpy()[:, 0]))\n",
        "\n",
        "\n",
        "print(\"Recall\")\n",
        "print(recall_score(Y_test.detach().numpy(),Y_pred.detach().numpy()[:, 0],average=None))\n",
        "\n",
        "\n",
        "print(\"Precision\")\n",
        "print(precision_score(Y_test.detach().numpy(),Y_pred.detach().numpy()[:, 0],average=None))\n",
        "\n",
        "\n",
        "print(\"F1 Score\")\n",
        "print(f1_score(Y_test.detach().numpy(),Y_pred.detach().numpy()[:, 0],average=None))\n",
        "\n",
        "print(\"Confusion Matrix\")\n",
        "print(confusion_matrix(Y_test.detach().numpy(),Y_pred.detach().numpy()[:, 0]))"
      ],
      "execution_count": null,
      "outputs": []
    },
    {
      "cell_type": "markdown",
      "metadata": {
        "id": "87d5XS-h-MBk"
      },
      "source": [
        "##Training the model"
      ]
    },
    {
      "cell_type": "code",
      "metadata": {
        "id": "kCoD6vUh-Q1W"
      },
      "source": [
        "# For most models\n",
        "model.fit(X_train,Y_train)\n",
        "# For Bagging And ADABoost\n",
        "# clf.fit(X_train,Y_train)"
      ],
      "execution_count": null,
      "outputs": []
    },
    {
      "cell_type": "markdown",
      "metadata": {
        "id": "-vXJ6dc8CxO-"
      },
      "source": [
        "##Performance"
      ]
    },
    {
      "cell_type": "code",
      "metadata": {
        "id": "ukm4VkDECz__"
      },
      "source": [
        "# define various metrics\n",
        "# accuracy, auc_roc, f1, recall, precision\n",
        "\n",
        "Y_pred = model.predict(X_test)\n",
        "# Y_pred = clf.predict(X_test)\n",
        "\n",
        "print(\"Accuracy\")\n",
        "print(accuracy_score(Y_test,Y_pred))\n",
        "\n",
        "\n",
        "print(\"ROC_AUC\")\n",
        "print(roc_auc_score(Y_test,Y_pred))\n",
        "\n",
        "\n",
        "print(\"Recall\")\n",
        "print(recall_score(Y_test,Y_pred,average=None))\n",
        "\n",
        "\n",
        "print(\"Precision\")\n",
        "print(precision_score(Y_test,Y_pred,average=None))\n",
        "print(precision_score(Y_test,Y_pred,average='macro'))\n",
        "\n",
        "\n",
        "print(\"F1 Score\")\n",
        "print(f1_score(Y_test,Y_pred,average=None))\n",
        "\n",
        "print(\"Confusion Matrix\")\n",
        "print(confusion_matrix(Y_test,Y_pred))"
      ],
      "execution_count": null,
      "outputs": []
    }
  ]
}